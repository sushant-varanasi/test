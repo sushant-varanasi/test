{
  "nbformat": 4,
  "nbformat_minor": 0,
  "metadata": {
    "colab": {
      "name": "test.ipynb",
      "provenance": [],
      "authorship_tag": "ABX9TyNlaqvbyPNCzBlUfvPt14kz",
      "include_colab_link": true
    },
    "kernelspec": {
      "name": "python3",
      "display_name": "Python 3"
    },
    "language_info": {
      "name": "python"
    }
  },
  "cells": [
    {
      "cell_type": "markdown",
      "metadata": {
        "id": "view-in-github",
        "colab_type": "text"
      },
      "source": [
        "<a href=\"https://colab.research.google.com/github/sushant-varanasi/test/blob/main/test.ipynb\" target=\"_parent\"><img src=\"https://colab.research.google.com/assets/colab-badge.svg\" alt=\"Open In Colab\"/></a>"
      ]
    },
    {
      "cell_type": "code",
      "metadata": {
        "colab": {
          "base_uri": "https://localhost:8080/"
        },
        "id": "7otyZ3r_GZuH",
        "outputId": "38383f7d-fed8-4e25-e081-57a1daa137d0"
      },
      "source": [
        "import requests\n",
        "api_key='505a498a2378ea1162c895a5d7c87c25'\n",
        "location=input(\"enter the city name: \")\n",
        "complete_api_link=(\"https://api.openweathermap.org/data/2.5/weather?q=\"+location+\"&appid=\"+api_key)\n",
        "\n",
        "print(complete_api_link)\n",
        "print(\"\\n\")\n",
        "\n",
        "api_link=requests.get(complete_api_link)\n",
        "api_data=api_link.json()\n",
        "\n",
        "print(api_data)\n",
        "\n",
        "print(\"\\n\")\n",
        "temp_city=((api_data['main']['temp'])-273.15)\n",
        "\n",
        "print(\"temp city: \" + str(temp_city))\n",
        "\n",
        "print(\"\\n\")\n",
        "print(\"\\n\")\n",
        "print(\"\\n\")\n",
        "\n",
        "\n",
        "weather_desc=api_data['weather'][0]['description']\n",
        "hmdt=api_data['main']['humidity']\n",
        "wind_speed=api_data['wind']['speed']\n",
        "\n",
        "\n",
        "print(\"----------------------------------------------------\")\n",
        "print(\" weather stats for {} \".format(location.upper()))\n",
        "print(\"----------------------------------------------------\")\n",
        "print(\" current temperature is:{:.2f} deg C\".format(temp_city))\n",
        "print(\"current weather desc :\",weather_desc)\n",
        "print(\"current humidity  :\",hmdt,'%')\n",
        "print(\" current wind speed  :\",wind_speed,'kmph')\n",
        "\n"
      ],
      "execution_count": 15,
      "outputs": [
        {
          "output_type": "stream",
          "text": [
            "enter the city name: kakinada\n",
            "https://api.openweathermap.org/data/2.5/weather?q=kakinada&appid=505a498a2378ea1162c895a5d7c87c25\n",
            "\n",
            "\n",
            "{'coord': {'lon': 82.2167, 'lat': 16.9333}, 'weather': [{'id': 804, 'main': 'Clouds', 'description': 'overcast clouds', 'icon': '04n'}], 'base': 'stations', 'main': {'temp': 301.5, 'feels_like': 304.51, 'temp_min': 301.5, 'temp_max': 301.5, 'pressure': 1004, 'humidity': 70, 'sea_level': 1004, 'grnd_level': 1003}, 'visibility': 10000, 'wind': {'speed': 2.23, 'deg': 265, 'gust': 6.58}, 'clouds': {'all': 100}, 'dt': 1624389835, 'sys': {'country': 'IN', 'sunrise': 1624406347, 'sunset': 1624453645}, 'timezone': 19800, 'id': 1268561, 'name': 'Kākināda', 'cod': 200}\n",
            "\n",
            "\n",
            "temp city: 28.350000000000023\n",
            "\n",
            "\n",
            "\n",
            "\n",
            "\n",
            "\n",
            "----------------------------------------------------\n",
            " weather stats for KAKINADA \n",
            "----------------------------------------------------\n",
            " current temperature is:28.35 deg C\n",
            "current weather desc : overcast clouds\n",
            "current humidity  : 70 %\n",
            " current wind speed  : 2.23 kmph\n"
          ],
          "name": "stdout"
        }
      ]
    },
    {
      "cell_type": "code",
      "metadata": {
        "id": "QHrP_oiwGcCp"
      },
      "source": [
        ""
      ],
      "execution_count": null,
      "outputs": []
    }
  ]
}